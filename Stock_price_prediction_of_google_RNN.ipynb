{
  "nbformat": 4,
  "nbformat_minor": 0,
  "metadata": {
    "colab": {
      "provenance": []
    },
    "kernelspec": {
      "name": "python3",
      "display_name": "Python 3"
    },
    "language_info": {
      "name": "python"
    }
  },
  "cells": [
    {
      "cell_type": "code",
      "execution_count": 1,
      "metadata": {
        "id": "Z1qGEIrYi9V0"
      },
      "outputs": [],
      "source": [
        "import pandas as pd\n",
        "import numpy as np\n",
        "import matplotlib.pyplot as plt"
      ]
    },
    {
      "cell_type": "code",
      "source": [
        "#Importing the training set\n",
        "dataset_train=pd.read_csv(\"/content/drive/MyDrive/Deep Learning/RNN/Part 3 - Recurrent Neural Networks/Google_Stock_Price_Train.csv\")"
      ],
      "metadata": {
        "id": "AaUNQvsqlDhp"
      },
      "execution_count": 2,
      "outputs": []
    },
    {
      "cell_type": "code",
      "source": [
        "dataset_train.shape"
      ],
      "metadata": {
        "colab": {
          "base_uri": "https://localhost:8080/"
        },
        "id": "l7u_v5ytmaWB",
        "outputId": "4dab8b63-2501-4b70-da6a-7c74fc07f1e1"
      },
      "execution_count": 3,
      "outputs": [
        {
          "output_type": "execute_result",
          "data": {
            "text/plain": [
              "(1258, 6)"
            ]
          },
          "metadata": {},
          "execution_count": 3
        }
      ]
    },
    {
      "cell_type": "code",
      "source": [
        "dataset_train.head()"
      ],
      "metadata": {
        "colab": {
          "base_uri": "https://localhost:8080/",
          "height": 206
        },
        "id": "VkCS0jlum1im",
        "outputId": "103badfa-962c-4346-f831-9e2e36448f3c"
      },
      "execution_count": 4,
      "outputs": [
        {
          "output_type": "execute_result",
          "data": {
            "text/plain": [
              "       Date    Open    High     Low   Close      Volume\n",
              "0  1/3/2012  325.25  332.83  324.97  663.59   7,380,500\n",
              "1  1/4/2012  331.27  333.87  329.08  666.45   5,749,400\n",
              "2  1/5/2012  329.83  330.75  326.89  657.21   6,590,300\n",
              "3  1/6/2012  328.34  328.77  323.68  648.24   5,405,900\n",
              "4  1/9/2012  322.04  322.29  309.46  620.76  11,688,800"
            ],
            "text/html": [
              "\n",
              "  <div id=\"df-02cd998a-14fe-4c36-a2ac-d4dd881fbab3\">\n",
              "    <div class=\"colab-df-container\">\n",
              "      <div>\n",
              "<style scoped>\n",
              "    .dataframe tbody tr th:only-of-type {\n",
              "        vertical-align: middle;\n",
              "    }\n",
              "\n",
              "    .dataframe tbody tr th {\n",
              "        vertical-align: top;\n",
              "    }\n",
              "\n",
              "    .dataframe thead th {\n",
              "        text-align: right;\n",
              "    }\n",
              "</style>\n",
              "<table border=\"1\" class=\"dataframe\">\n",
              "  <thead>\n",
              "    <tr style=\"text-align: right;\">\n",
              "      <th></th>\n",
              "      <th>Date</th>\n",
              "      <th>Open</th>\n",
              "      <th>High</th>\n",
              "      <th>Low</th>\n",
              "      <th>Close</th>\n",
              "      <th>Volume</th>\n",
              "    </tr>\n",
              "  </thead>\n",
              "  <tbody>\n",
              "    <tr>\n",
              "      <th>0</th>\n",
              "      <td>1/3/2012</td>\n",
              "      <td>325.25</td>\n",
              "      <td>332.83</td>\n",
              "      <td>324.97</td>\n",
              "      <td>663.59</td>\n",
              "      <td>7,380,500</td>\n",
              "    </tr>\n",
              "    <tr>\n",
              "      <th>1</th>\n",
              "      <td>1/4/2012</td>\n",
              "      <td>331.27</td>\n",
              "      <td>333.87</td>\n",
              "      <td>329.08</td>\n",
              "      <td>666.45</td>\n",
              "      <td>5,749,400</td>\n",
              "    </tr>\n",
              "    <tr>\n",
              "      <th>2</th>\n",
              "      <td>1/5/2012</td>\n",
              "      <td>329.83</td>\n",
              "      <td>330.75</td>\n",
              "      <td>326.89</td>\n",
              "      <td>657.21</td>\n",
              "      <td>6,590,300</td>\n",
              "    </tr>\n",
              "    <tr>\n",
              "      <th>3</th>\n",
              "      <td>1/6/2012</td>\n",
              "      <td>328.34</td>\n",
              "      <td>328.77</td>\n",
              "      <td>323.68</td>\n",
              "      <td>648.24</td>\n",
              "      <td>5,405,900</td>\n",
              "    </tr>\n",
              "    <tr>\n",
              "      <th>4</th>\n",
              "      <td>1/9/2012</td>\n",
              "      <td>322.04</td>\n",
              "      <td>322.29</td>\n",
              "      <td>309.46</td>\n",
              "      <td>620.76</td>\n",
              "      <td>11,688,800</td>\n",
              "    </tr>\n",
              "  </tbody>\n",
              "</table>\n",
              "</div>\n",
              "      <button class=\"colab-df-convert\" onclick=\"convertToInteractive('df-02cd998a-14fe-4c36-a2ac-d4dd881fbab3')\"\n",
              "              title=\"Convert this dataframe to an interactive table.\"\n",
              "              style=\"display:none;\">\n",
              "        \n",
              "  <svg xmlns=\"http://www.w3.org/2000/svg\" height=\"24px\"viewBox=\"0 0 24 24\"\n",
              "       width=\"24px\">\n",
              "    <path d=\"M0 0h24v24H0V0z\" fill=\"none\"/>\n",
              "    <path d=\"M18.56 5.44l.94 2.06.94-2.06 2.06-.94-2.06-.94-.94-2.06-.94 2.06-2.06.94zm-11 1L8.5 8.5l.94-2.06 2.06-.94-2.06-.94L8.5 2.5l-.94 2.06-2.06.94zm10 10l.94 2.06.94-2.06 2.06-.94-2.06-.94-.94-2.06-.94 2.06-2.06.94z\"/><path d=\"M17.41 7.96l-1.37-1.37c-.4-.4-.92-.59-1.43-.59-.52 0-1.04.2-1.43.59L10.3 9.45l-7.72 7.72c-.78.78-.78 2.05 0 2.83L4 21.41c.39.39.9.59 1.41.59.51 0 1.02-.2 1.41-.59l7.78-7.78 2.81-2.81c.8-.78.8-2.07 0-2.86zM5.41 20L4 18.59l7.72-7.72 1.47 1.35L5.41 20z\"/>\n",
              "  </svg>\n",
              "      </button>\n",
              "      \n",
              "  <style>\n",
              "    .colab-df-container {\n",
              "      display:flex;\n",
              "      flex-wrap:wrap;\n",
              "      gap: 12px;\n",
              "    }\n",
              "\n",
              "    .colab-df-convert {\n",
              "      background-color: #E8F0FE;\n",
              "      border: none;\n",
              "      border-radius: 50%;\n",
              "      cursor: pointer;\n",
              "      display: none;\n",
              "      fill: #1967D2;\n",
              "      height: 32px;\n",
              "      padding: 0 0 0 0;\n",
              "      width: 32px;\n",
              "    }\n",
              "\n",
              "    .colab-df-convert:hover {\n",
              "      background-color: #E2EBFA;\n",
              "      box-shadow: 0px 1px 2px rgba(60, 64, 67, 0.3), 0px 1px 3px 1px rgba(60, 64, 67, 0.15);\n",
              "      fill: #174EA6;\n",
              "    }\n",
              "\n",
              "    [theme=dark] .colab-df-convert {\n",
              "      background-color: #3B4455;\n",
              "      fill: #D2E3FC;\n",
              "    }\n",
              "\n",
              "    [theme=dark] .colab-df-convert:hover {\n",
              "      background-color: #434B5C;\n",
              "      box-shadow: 0px 1px 3px 1px rgba(0, 0, 0, 0.15);\n",
              "      filter: drop-shadow(0px 1px 2px rgba(0, 0, 0, 0.3));\n",
              "      fill: #FFFFFF;\n",
              "    }\n",
              "  </style>\n",
              "\n",
              "      <script>\n",
              "        const buttonEl =\n",
              "          document.querySelector('#df-02cd998a-14fe-4c36-a2ac-d4dd881fbab3 button.colab-df-convert');\n",
              "        buttonEl.style.display =\n",
              "          google.colab.kernel.accessAllowed ? 'block' : 'none';\n",
              "\n",
              "        async function convertToInteractive(key) {\n",
              "          const element = document.querySelector('#df-02cd998a-14fe-4c36-a2ac-d4dd881fbab3');\n",
              "          const dataTable =\n",
              "            await google.colab.kernel.invokeFunction('convertToInteractive',\n",
              "                                                     [key], {});\n",
              "          if (!dataTable) return;\n",
              "\n",
              "          const docLinkHtml = 'Like what you see? Visit the ' +\n",
              "            '<a target=\"_blank\" href=https://colab.research.google.com/notebooks/data_table.ipynb>data table notebook</a>'\n",
              "            + ' to learn more about interactive tables.';\n",
              "          element.innerHTML = '';\n",
              "          dataTable['output_type'] = 'display_data';\n",
              "          await google.colab.output.renderOutput(dataTable, element);\n",
              "          const docLink = document.createElement('div');\n",
              "          docLink.innerHTML = docLinkHtml;\n",
              "          element.appendChild(docLink);\n",
              "        }\n",
              "      </script>\n",
              "    </div>\n",
              "  </div>\n",
              "  "
            ]
          },
          "metadata": {},
          "execution_count": 4
        }
      ]
    },
    {
      "cell_type": "markdown",
      "source": [
        "# Part - 1: Data Preprocessing"
      ],
      "metadata": {
        "id": "rFonZp1emjlH"
      }
    },
    {
      "cell_type": "code",
      "source": [
        "#Converting the data into numpy array\n",
        "training_set=dataset_train.iloc[:,1:2].values\n",
        "training_set"
      ],
      "metadata": {
        "colab": {
          "base_uri": "https://localhost:8080/"
        },
        "id": "JG9G2ft1mewS",
        "outputId": "5c53cf7f-7a26-4c57-a379-ee17f4f519ff"
      },
      "execution_count": 5,
      "outputs": [
        {
          "output_type": "execute_result",
          "data": {
            "text/plain": [
              "array([[325.25],\n",
              "       [331.27],\n",
              "       [329.83],\n",
              "       ...,\n",
              "       [793.7 ],\n",
              "       [783.33],\n",
              "       [782.75]])"
            ]
          },
          "metadata": {},
          "execution_count": 5
        }
      ]
    },
    {
      "cell_type": "markdown",
      "source": [
        "## Feature Scaling\n",
        "- For RNN it is recommended to apply the normalization method for normalization.\n",
        "- Xnorm=(X-Xmin/Xmax-Xmin)"
      ],
      "metadata": {
        "id": "Th64lP7DnwOc"
      }
    },
    {
      "cell_type": "code",
      "source": [
        "from sklearn.preprocessing import MinMaxScaler\n"
      ],
      "metadata": {
        "id": "sJBjV8rLnVc7"
      },
      "execution_count": 6,
      "outputs": []
    },
    {
      "cell_type": "code",
      "source": [
        "sc=MinMaxScaler(feature_range=(0,1))"
      ],
      "metadata": {
        "id": "776K49F8ox3v"
      },
      "execution_count": 7,
      "outputs": []
    },
    {
      "cell_type": "code",
      "source": [
        "training_set_scaled=sc.fit_transform(training_set)\n",
        "training_set_scaled"
      ],
      "metadata": {
        "colab": {
          "base_uri": "https://localhost:8080/"
        },
        "id": "l8MVS9xppAm3",
        "outputId": "561bc378-dd96-445a-bc53-d22f21d5dc18"
      },
      "execution_count": 8,
      "outputs": [
        {
          "output_type": "execute_result",
          "data": {
            "text/plain": [
              "array([[0.08581368],\n",
              "       [0.09701243],\n",
              "       [0.09433366],\n",
              "       ...,\n",
              "       [0.95725128],\n",
              "       [0.93796041],\n",
              "       [0.93688146]])"
            ]
          },
          "metadata": {},
          "execution_count": 8
        }
      ]
    },
    {
      "cell_type": "markdown",
      "source": [
        "## Creating a data structure with 60 timesteps and 1 output"
      ],
      "metadata": {
        "id": "A6N5k_axpluh"
      }
    },
    {
      "cell_type": "code",
      "source": [
        "X_train=[]\n",
        "y_train=[]"
      ],
      "metadata": {
        "id": "78b0o9PRpc7N"
      },
      "execution_count": 9,
      "outputs": []
    },
    {
      "cell_type": "code",
      "source": [
        "for i in range(60,1258):\n",
        "  X_train.append(training_set_scaled[i-60:i,0])\n",
        "  y_train.append(training_set_scaled[i,0])"
      ],
      "metadata": {
        "id": "N311-Egtqa3v"
      },
      "execution_count": 10,
      "outputs": []
    },
    {
      "cell_type": "code",
      "source": [
        "X_train,y_train=np.array(X_train),np.array(y_train) #Connverting list into array"
      ],
      "metadata": {
        "id": "kMhKOgggr9x8"
      },
      "execution_count": 11,
      "outputs": []
    },
    {
      "cell_type": "code",
      "source": [
        "X_train.shape"
      ],
      "metadata": {
        "colab": {
          "base_uri": "https://localhost:8080/"
        },
        "id": "6vV6bEkzsLw5",
        "outputId": "34a66b13-a097-4724-bfa3-8284e2b20043"
      },
      "execution_count": 12,
      "outputs": [
        {
          "output_type": "execute_result",
          "data": {
            "text/plain": [
              "(1198, 60)"
            ]
          },
          "metadata": {},
          "execution_count": 12
        }
      ]
    },
    {
      "cell_type": "code",
      "source": [
        "y_train.shape"
      ],
      "metadata": {
        "colab": {
          "base_uri": "https://localhost:8080/"
        },
        "id": "v_Uk4AwesTMK",
        "outputId": "393ba9c2-4cf9-445c-d0fe-538e9db0e5d9"
      },
      "execution_count": 13,
      "outputs": [
        {
          "output_type": "execute_result",
          "data": {
            "text/plain": [
              "(1198,)"
            ]
          },
          "metadata": {},
          "execution_count": 13
        }
      ]
    },
    {
      "cell_type": "markdown",
      "source": [
        "## Reshaping the data\n",
        "\n",
        "- To add new dimensions in the data"
      ],
      "metadata": {
        "id": "TJ1MH8dptAZ_"
      }
    },
    {
      "cell_type": "code",
      "source": [
        "X_train=np.reshape(X_train,(X_train.shape[0],X_train.shape[1],1)) # Batch size(no. of rows),timesteps(no. of columns),no. of indicators/predictors"
      ],
      "metadata": {
        "id": "Lw8XJys_sdp6"
      },
      "execution_count": 14,
      "outputs": []
    },
    {
      "cell_type": "code",
      "source": [
        "X_train.shape"
      ],
      "metadata": {
        "colab": {
          "base_uri": "https://localhost:8080/"
        },
        "id": "9_5ZskEFz1AK",
        "outputId": "3de81f8f-e97f-44c5-f814-68dbe08dc0c7"
      },
      "execution_count": 15,
      "outputs": [
        {
          "output_type": "execute_result",
          "data": {
            "text/plain": [
              "(1198, 60, 1)"
            ]
          },
          "metadata": {},
          "execution_count": 15
        }
      ]
    },
    {
      "cell_type": "markdown",
      "source": [
        "# Part - 2 - Building The RNN"
      ],
      "metadata": {
        "id": "ZzpOapr20LcW"
      }
    },
    {
      "cell_type": "markdown",
      "source": [
        "## Importing the Keras libraries and packages"
      ],
      "metadata": {
        "id": "lj1gcSxo0UCJ"
      }
    },
    {
      "cell_type": "code",
      "source": [
        "import tensorflow as tf"
      ],
      "metadata": {
        "id": "uL67Ud1uz2-o"
      },
      "execution_count": 16,
      "outputs": []
    },
    {
      "cell_type": "code",
      "source": [
        "from keras.models import Sequential\n",
        "from keras.layers import Dense,LSTM,Dropout"
      ],
      "metadata": {
        "id": "oN1bfV730if8"
      },
      "execution_count": 17,
      "outputs": []
    },
    {
      "cell_type": "markdown",
      "source": [
        "## Initialising The RNN"
      ],
      "metadata": {
        "id": "X9ypkplF1zO6"
      }
    },
    {
      "cell_type": "code",
      "source": [
        "regressor=Sequential()"
      ],
      "metadata": {
        "id": "4meKwZxc0803"
      },
      "execution_count": 18,
      "outputs": []
    },
    {
      "cell_type": "markdown",
      "source": [
        "## Adding the first LSTM layer and some Dropout regularization "
      ],
      "metadata": {
        "id": "WXL9iK222Zjo"
      }
    },
    {
      "cell_type": "code",
      "source": [
        "regressor.add(LSTM(units=50,return_sequences=True,input_shape=(X_train.shape[1],1)))"
      ],
      "metadata": {
        "id": "7vdGQ9Ug2A5M"
      },
      "execution_count": 19,
      "outputs": []
    },
    {
      "cell_type": "code",
      "source": [
        "regressor.add(Dropout(0.2))"
      ],
      "metadata": {
        "id": "z-LVCG4e4DLH"
      },
      "execution_count": 20,
      "outputs": []
    },
    {
      "cell_type": "markdown",
      "source": [
        "## Adding a second LSTM layer and some Dropout regularisation"
      ],
      "metadata": {
        "id": "U-OHEGcu4kR6"
      }
    },
    {
      "cell_type": "code",
      "source": [
        "regressor.add(LSTM(units=50,return_sequences=True))\n",
        "regressor.add(Dropout(0.2))"
      ],
      "metadata": {
        "id": "FVciKMjL47Mf"
      },
      "execution_count": 21,
      "outputs": []
    },
    {
      "cell_type": "markdown",
      "source": [
        "## Adding a *third* LSTM layer and some Dropout regularisation"
      ],
      "metadata": {
        "id": "ZpyMeOIa4kD4"
      }
    },
    {
      "cell_type": "code",
      "source": [
        "regressor.add(LSTM(units=50,return_sequences=True))\n",
        "regressor.add(Dropout(0.2))"
      ],
      "metadata": {
        "id": "PhsvHbED5I1X"
      },
      "execution_count": 22,
      "outputs": []
    },
    {
      "cell_type": "markdown",
      "source": [
        "## Adding a fourth LSTM layer and some Dropout regularisation"
      ],
      "metadata": {
        "id": "X7QzE2U84jw7"
      }
    },
    {
      "cell_type": "code",
      "source": [
        "regressor.add(LSTM(units=50,return_sequences=False))\n",
        "regressor.add(Dropout(0.2))"
      ],
      "metadata": {
        "id": "5Im7SqsS4d21"
      },
      "execution_count": 23,
      "outputs": []
    },
    {
      "cell_type": "markdown",
      "source": [
        "## Adding the output layer "
      ],
      "metadata": {
        "id": "T9XSDN_DhUeX"
      }
    },
    {
      "cell_type": "code",
      "source": [
        "regressor.add(Dense(units=1))"
      ],
      "metadata": {
        "id": "VbMNKNtChHYS"
      },
      "execution_count": 24,
      "outputs": []
    },
    {
      "cell_type": "markdown",
      "source": [
        "## Compiling the RNN"
      ],
      "metadata": {
        "id": "Wd3OButFrGvz"
      }
    },
    {
      "cell_type": "code",
      "source": [
        "regressor.compile(optimizer=\"adam\",loss=\"mean_squared_error\")"
      ],
      "metadata": {
        "id": "UZ7cujJdrF4S"
      },
      "execution_count": 25,
      "outputs": []
    },
    {
      "cell_type": "markdown",
      "source": [
        "## Fitting the RNN to the training set"
      ],
      "metadata": {
        "id": "ifmcRhZAsDu0"
      }
    },
    {
      "cell_type": "code",
      "source": [
        "X_train.shape,y_train.shape"
      ],
      "metadata": {
        "colab": {
          "base_uri": "https://localhost:8080/"
        },
        "id": "xEER8-1htGy3",
        "outputId": "32ea7086-bc39-4f49-b95d-95fcb450bfe1"
      },
      "execution_count": 28,
      "outputs": [
        {
          "output_type": "execute_result",
          "data": {
            "text/plain": [
              "((1198, 60, 1), (1198,))"
            ]
          },
          "metadata": {},
          "execution_count": 28
        }
      ]
    },
    {
      "cell_type": "code",
      "source": [
        "regressor.fit(X_train,y_train, epochs=100, batch_size=32)"
      ],
      "metadata": {
        "colab": {
          "base_uri": "https://localhost:8080/"
        },
        "id": "nLx0hYem5yW2",
        "outputId": "1083824e-cd32-427a-949d-1beecc3b2fa3"
      },
      "execution_count": 29,
      "outputs": [
        {
          "output_type": "stream",
          "name": "stdout",
          "text": [
            "Epoch 1/100\n",
            "38/38 [==============================] - 5s 134ms/step - loss: 0.0046\n",
            "Epoch 2/100\n",
            "38/38 [==============================] - 6s 148ms/step - loss: 0.0042\n",
            "Epoch 3/100\n",
            "38/38 [==============================] - 4s 118ms/step - loss: 0.0038\n",
            "Epoch 4/100\n",
            "38/38 [==============================] - 6s 155ms/step - loss: 0.0040\n",
            "Epoch 5/100\n",
            "38/38 [==============================] - 5s 129ms/step - loss: 0.0041\n",
            "Epoch 6/100\n",
            "38/38 [==============================] - 5s 120ms/step - loss: 0.0043\n",
            "Epoch 7/100\n",
            "38/38 [==============================] - 6s 170ms/step - loss: 0.0039\n",
            "Epoch 8/100\n",
            "38/38 [==============================] - 5s 120ms/step - loss: 0.0034\n",
            "Epoch 9/100\n",
            "38/38 [==============================] - 5s 120ms/step - loss: 0.0040\n",
            "Epoch 10/100\n",
            "38/38 [==============================] - 6s 167ms/step - loss: 0.0038\n",
            "Epoch 11/100\n",
            "38/38 [==============================] - 5s 122ms/step - loss: 0.0035\n",
            "Epoch 12/100\n",
            "38/38 [==============================] - 5s 143ms/step - loss: 0.0033\n",
            "Epoch 13/100\n",
            "38/38 [==============================] - 6s 144ms/step - loss: 0.0035\n",
            "Epoch 14/100\n",
            "38/38 [==============================] - 5s 127ms/step - loss: 0.0032\n",
            "Epoch 15/100\n",
            "38/38 [==============================] - 7s 179ms/step - loss: 0.0030\n",
            "Epoch 16/100\n",
            "38/38 [==============================] - 5s 121ms/step - loss: 0.0036\n",
            "Epoch 17/100\n",
            "38/38 [==============================] - 4s 118ms/step - loss: 0.0031\n",
            "Epoch 18/100\n",
            "38/38 [==============================] - 6s 166ms/step - loss: 0.0032\n",
            "Epoch 19/100\n",
            "38/38 [==============================] - 5s 133ms/step - loss: 0.0029\n",
            "Epoch 20/100\n",
            "38/38 [==============================] - 5s 140ms/step - loss: 0.0030\n",
            "Epoch 21/100\n",
            "38/38 [==============================] - 6s 144ms/step - loss: 0.0030\n",
            "Epoch 22/100\n",
            "38/38 [==============================] - 6s 151ms/step - loss: 0.0031\n",
            "Epoch 23/100\n",
            "38/38 [==============================] - 7s 187ms/step - loss: 0.0029\n",
            "Epoch 24/100\n",
            "38/38 [==============================] - 5s 119ms/step - loss: 0.0027\n",
            "Epoch 25/100\n",
            "38/38 [==============================] - 5s 128ms/step - loss: 0.0028\n",
            "Epoch 26/100\n",
            "38/38 [==============================] - 6s 160ms/step - loss: 0.0028\n",
            "Epoch 27/100\n",
            "38/38 [==============================] - 5s 119ms/step - loss: 0.0028\n",
            "Epoch 28/100\n",
            "38/38 [==============================] - 6s 150ms/step - loss: 0.0030\n",
            "Epoch 29/100\n",
            "38/38 [==============================] - 5s 136ms/step - loss: 0.0026\n",
            "Epoch 30/100\n",
            "38/38 [==============================] - 5s 119ms/step - loss: 0.0026\n",
            "Epoch 31/100\n",
            "38/38 [==============================] - 6s 168ms/step - loss: 0.0029\n",
            "Epoch 32/100\n",
            "38/38 [==============================] - 5s 121ms/step - loss: 0.0026\n",
            "Epoch 33/100\n",
            "38/38 [==============================] - 5s 120ms/step - loss: 0.0025\n",
            "Epoch 34/100\n",
            "38/38 [==============================] - 6s 169ms/step - loss: 0.0027\n",
            "Epoch 35/100\n",
            "38/38 [==============================] - 4s 118ms/step - loss: 0.0025\n",
            "Epoch 36/100\n",
            "38/38 [==============================] - 5s 133ms/step - loss: 0.0025\n",
            "Epoch 37/100\n",
            "38/38 [==============================] - 6s 152ms/step - loss: 0.0027\n",
            "Epoch 38/100\n",
            "38/38 [==============================] - 5s 119ms/step - loss: 0.0023\n",
            "Epoch 39/100\n",
            "38/38 [==============================] - 6s 158ms/step - loss: 0.0025\n",
            "Epoch 40/100\n",
            "38/38 [==============================] - 5s 127ms/step - loss: 0.0025\n",
            "Epoch 41/100\n",
            "38/38 [==============================] - 5s 121ms/step - loss: 0.0024\n",
            "Epoch 42/100\n",
            "38/38 [==============================] - 6s 169ms/step - loss: 0.0022\n",
            "Epoch 43/100\n",
            "38/38 [==============================] - 5s 119ms/step - loss: 0.0023\n",
            "Epoch 44/100\n",
            "38/38 [==============================] - 5s 120ms/step - loss: 0.0024\n",
            "Epoch 45/100\n",
            "38/38 [==============================] - 6s 169ms/step - loss: 0.0023\n",
            "Epoch 46/100\n",
            "38/38 [==============================] - 5s 121ms/step - loss: 0.0022\n",
            "Epoch 47/100\n",
            "38/38 [==============================] - 5s 143ms/step - loss: 0.0019\n",
            "Epoch 48/100\n",
            "38/38 [==============================] - 6s 144ms/step - loss: 0.0022\n",
            "Epoch 49/100\n",
            "38/38 [==============================] - 5s 120ms/step - loss: 0.0026\n",
            "Epoch 50/100\n",
            "38/38 [==============================] - 6s 168ms/step - loss: 0.0025\n",
            "Epoch 51/100\n",
            "38/38 [==============================] - 5s 122ms/step - loss: 0.0020\n",
            "Epoch 52/100\n",
            "38/38 [==============================] - 5s 119ms/step - loss: 0.0024\n",
            "Epoch 53/100\n",
            "38/38 [==============================] - 6s 168ms/step - loss: 0.0022\n",
            "Epoch 54/100\n",
            "38/38 [==============================] - 5s 122ms/step - loss: 0.0020\n",
            "Epoch 55/100\n",
            "38/38 [==============================] - 5s 131ms/step - loss: 0.0018\n",
            "Epoch 56/100\n",
            "38/38 [==============================] - 6s 158ms/step - loss: 0.0021\n",
            "Epoch 57/100\n",
            "38/38 [==============================] - 5s 121ms/step - loss: 0.0024\n",
            "Epoch 58/100\n",
            "38/38 [==============================] - 6s 156ms/step - loss: 0.0020\n",
            "Epoch 59/100\n",
            "38/38 [==============================] - 5s 128ms/step - loss: 0.0019\n",
            "Epoch 60/100\n",
            "38/38 [==============================] - 5s 118ms/step - loss: 0.0020\n",
            "Epoch 61/100\n",
            "38/38 [==============================] - 6s 167ms/step - loss: 0.0019\n",
            "Epoch 62/100\n",
            "38/38 [==============================] - 5s 124ms/step - loss: 0.0018\n",
            "Epoch 63/100\n",
            "38/38 [==============================] - 5s 119ms/step - loss: 0.0017\n",
            "Epoch 64/100\n",
            "38/38 [==============================] - 6s 168ms/step - loss: 0.0017\n",
            "Epoch 65/100\n",
            "38/38 [==============================] - 5s 119ms/step - loss: 0.0020\n",
            "Epoch 66/100\n",
            "38/38 [==============================] - 5s 138ms/step - loss: 0.0018\n",
            "Epoch 67/100\n",
            "38/38 [==============================] - 6s 150ms/step - loss: 0.0018\n",
            "Epoch 68/100\n",
            "38/38 [==============================] - 5s 120ms/step - loss: 0.0017\n",
            "Epoch 69/100\n",
            "38/38 [==============================] - 6s 167ms/step - loss: 0.0017\n",
            "Epoch 70/100\n",
            "38/38 [==============================] - 5s 120ms/step - loss: 0.0016\n",
            "Epoch 71/100\n",
            "38/38 [==============================] - 5s 120ms/step - loss: 0.0016\n",
            "Epoch 72/100\n",
            "38/38 [==============================] - 6s 168ms/step - loss: 0.0016\n",
            "Epoch 73/100\n",
            "38/38 [==============================] - 5s 119ms/step - loss: 0.0015\n",
            "Epoch 74/100\n",
            "38/38 [==============================] - 5s 123ms/step - loss: 0.0015\n",
            "Epoch 75/100\n",
            "38/38 [==============================] - 6s 163ms/step - loss: 0.0016\n",
            "Epoch 76/100\n",
            "38/38 [==============================] - 6s 150ms/step - loss: 0.0016\n",
            "Epoch 77/100\n",
            "38/38 [==============================] - 7s 186ms/step - loss: 0.0016\n",
            "Epoch 78/100\n",
            "38/38 [==============================] - 5s 121ms/step - loss: 0.0016\n",
            "Epoch 79/100\n",
            "38/38 [==============================] - 5s 119ms/step - loss: 0.0015\n",
            "Epoch 80/100\n",
            "38/38 [==============================] - 6s 167ms/step - loss: 0.0014\n",
            "Epoch 81/100\n",
            "38/38 [==============================] - 5s 119ms/step - loss: 0.0016\n",
            "Epoch 82/100\n",
            "38/38 [==============================] - 5s 141ms/step - loss: 0.0015\n",
            "Epoch 83/100\n",
            "38/38 [==============================] - 6s 144ms/step - loss: 0.0016\n",
            "Epoch 84/100\n",
            "38/38 [==============================] - 5s 119ms/step - loss: 0.0016\n",
            "Epoch 85/100\n",
            "38/38 [==============================] - 6s 169ms/step - loss: 0.0020\n",
            "Epoch 86/100\n",
            "38/38 [==============================] - 5s 129ms/step - loss: 0.0015\n",
            "Epoch 87/100\n",
            "38/38 [==============================] - 5s 119ms/step - loss: 0.0014\n",
            "Epoch 88/100\n",
            "38/38 [==============================] - 6s 168ms/step - loss: 0.0015\n",
            "Epoch 89/100\n",
            "38/38 [==============================] - 4s 118ms/step - loss: 0.0014\n",
            "Epoch 90/100\n",
            "38/38 [==============================] - 5s 132ms/step - loss: 0.0015\n",
            "Epoch 91/100\n",
            "38/38 [==============================] - 6s 157ms/step - loss: 0.0015\n",
            "Epoch 92/100\n",
            "38/38 [==============================] - 5s 120ms/step - loss: 0.0017\n",
            "Epoch 93/100\n",
            "38/38 [==============================] - 6s 157ms/step - loss: 0.0015\n",
            "Epoch 94/100\n",
            "38/38 [==============================] - 5s 128ms/step - loss: 0.0016\n",
            "Epoch 95/100\n",
            "38/38 [==============================] - 5s 119ms/step - loss: 0.0013\n",
            "Epoch 96/100\n",
            "38/38 [==============================] - 6s 170ms/step - loss: 0.0014\n",
            "Epoch 97/100\n",
            "38/38 [==============================] - 5s 119ms/step - loss: 0.0013\n",
            "Epoch 98/100\n",
            "38/38 [==============================] - 5s 121ms/step - loss: 0.0015\n",
            "Epoch 99/100\n",
            "38/38 [==============================] - 6s 168ms/step - loss: 0.0014\n",
            "Epoch 100/100\n",
            "38/38 [==============================] - 5s 120ms/step - loss: 0.0013\n"
          ]
        },
        {
          "output_type": "execute_result",
          "data": {
            "text/plain": [
              "<keras.callbacks.History at 0x7f237be1c1f0>"
            ]
          },
          "metadata": {},
          "execution_count": 29
        }
      ]
    },
    {
      "cell_type": "markdown",
      "source": [
        "# Part 3 - Making the predictions and visualizing the results"
      ],
      "metadata": {
        "id": "MA5oWXqavq-v"
      }
    },
    {
      "cell_type": "markdown",
      "source": [
        "## Getting the real stock price of January 2017"
      ],
      "metadata": {
        "id": "-fIgwGyUwBnA"
      }
    },
    {
      "cell_type": "code",
      "source": [
        "dataset_test=pd.read_csv(\"/content/drive/MyDrive/Deep Learning/RNN/Part 3 - Recurrent Neural Networks/Google_Stock_Price_Test.csv\")\n",
        "dataset_test"
      ],
      "metadata": {
        "colab": {
          "base_uri": "https://localhost:8080/",
          "height": 676
        },
        "id": "4ESVZUlNs3zO",
        "outputId": "fd1876be-ec62-4ea3-a081-a9c0223a3791"
      },
      "execution_count": 30,
      "outputs": [
        {
          "output_type": "execute_result",
          "data": {
            "text/plain": [
              "         Date    Open    High     Low   Close     Volume\n",
              "0    1/3/2017  778.81  789.63  775.80  786.14  1,657,300\n",
              "1    1/4/2017  788.36  791.34  783.16  786.90  1,073,000\n",
              "2    1/5/2017  786.08  794.48  785.02  794.02  1,335,200\n",
              "3    1/6/2017  795.26  807.90  792.20  806.15  1,640,200\n",
              "4    1/9/2017  806.40  809.97  802.83  806.65  1,272,400\n",
              "5   1/10/2017  807.86  809.13  803.51  804.79  1,176,800\n",
              "6   1/11/2017  805.00  808.15  801.37  807.91  1,065,900\n",
              "7   1/12/2017  807.14  807.39  799.17  806.36  1,353,100\n",
              "8   1/13/2017  807.48  811.22  806.69  807.88  1,099,200\n",
              "9   1/17/2017  807.08  807.14  800.37  804.61  1,362,100\n",
              "10  1/18/2017  805.81  806.21  800.99  806.07  1,294,400\n",
              "11  1/19/2017  805.12  809.48  801.80  802.17    919,300\n",
              "12  1/20/2017  806.91  806.91  801.69  805.02  1,670,000\n",
              "13  1/23/2017  807.25  820.87  803.74  819.31  1,963,600\n",
              "14  1/24/2017  822.30  825.90  817.82  823.87  1,474,000\n",
              "15  1/25/2017  829.62  835.77  825.06  835.67  1,494,500\n",
              "16  1/26/2017  837.81  838.00  827.01  832.15  2,973,900\n",
              "17  1/27/2017  834.71  841.95  820.44  823.31  2,965,800\n",
              "18  1/30/2017  814.66  815.84  799.80  802.32  3,246,600\n",
              "19  1/31/2017  796.86  801.25  790.52  796.79  2,160,600"
            ],
            "text/html": [
              "\n",
              "  <div id=\"df-db052222-c247-4d85-b828-92b65a1f5145\">\n",
              "    <div class=\"colab-df-container\">\n",
              "      <div>\n",
              "<style scoped>\n",
              "    .dataframe tbody tr th:only-of-type {\n",
              "        vertical-align: middle;\n",
              "    }\n",
              "\n",
              "    .dataframe tbody tr th {\n",
              "        vertical-align: top;\n",
              "    }\n",
              "\n",
              "    .dataframe thead th {\n",
              "        text-align: right;\n",
              "    }\n",
              "</style>\n",
              "<table border=\"1\" class=\"dataframe\">\n",
              "  <thead>\n",
              "    <tr style=\"text-align: right;\">\n",
              "      <th></th>\n",
              "      <th>Date</th>\n",
              "      <th>Open</th>\n",
              "      <th>High</th>\n",
              "      <th>Low</th>\n",
              "      <th>Close</th>\n",
              "      <th>Volume</th>\n",
              "    </tr>\n",
              "  </thead>\n",
              "  <tbody>\n",
              "    <tr>\n",
              "      <th>0</th>\n",
              "      <td>1/3/2017</td>\n",
              "      <td>778.81</td>\n",
              "      <td>789.63</td>\n",
              "      <td>775.80</td>\n",
              "      <td>786.14</td>\n",
              "      <td>1,657,300</td>\n",
              "    </tr>\n",
              "    <tr>\n",
              "      <th>1</th>\n",
              "      <td>1/4/2017</td>\n",
              "      <td>788.36</td>\n",
              "      <td>791.34</td>\n",
              "      <td>783.16</td>\n",
              "      <td>786.90</td>\n",
              "      <td>1,073,000</td>\n",
              "    </tr>\n",
              "    <tr>\n",
              "      <th>2</th>\n",
              "      <td>1/5/2017</td>\n",
              "      <td>786.08</td>\n",
              "      <td>794.48</td>\n",
              "      <td>785.02</td>\n",
              "      <td>794.02</td>\n",
              "      <td>1,335,200</td>\n",
              "    </tr>\n",
              "    <tr>\n",
              "      <th>3</th>\n",
              "      <td>1/6/2017</td>\n",
              "      <td>795.26</td>\n",
              "      <td>807.90</td>\n",
              "      <td>792.20</td>\n",
              "      <td>806.15</td>\n",
              "      <td>1,640,200</td>\n",
              "    </tr>\n",
              "    <tr>\n",
              "      <th>4</th>\n",
              "      <td>1/9/2017</td>\n",
              "      <td>806.40</td>\n",
              "      <td>809.97</td>\n",
              "      <td>802.83</td>\n",
              "      <td>806.65</td>\n",
              "      <td>1,272,400</td>\n",
              "    </tr>\n",
              "    <tr>\n",
              "      <th>5</th>\n",
              "      <td>1/10/2017</td>\n",
              "      <td>807.86</td>\n",
              "      <td>809.13</td>\n",
              "      <td>803.51</td>\n",
              "      <td>804.79</td>\n",
              "      <td>1,176,800</td>\n",
              "    </tr>\n",
              "    <tr>\n",
              "      <th>6</th>\n",
              "      <td>1/11/2017</td>\n",
              "      <td>805.00</td>\n",
              "      <td>808.15</td>\n",
              "      <td>801.37</td>\n",
              "      <td>807.91</td>\n",
              "      <td>1,065,900</td>\n",
              "    </tr>\n",
              "    <tr>\n",
              "      <th>7</th>\n",
              "      <td>1/12/2017</td>\n",
              "      <td>807.14</td>\n",
              "      <td>807.39</td>\n",
              "      <td>799.17</td>\n",
              "      <td>806.36</td>\n",
              "      <td>1,353,100</td>\n",
              "    </tr>\n",
              "    <tr>\n",
              "      <th>8</th>\n",
              "      <td>1/13/2017</td>\n",
              "      <td>807.48</td>\n",
              "      <td>811.22</td>\n",
              "      <td>806.69</td>\n",
              "      <td>807.88</td>\n",
              "      <td>1,099,200</td>\n",
              "    </tr>\n",
              "    <tr>\n",
              "      <th>9</th>\n",
              "      <td>1/17/2017</td>\n",
              "      <td>807.08</td>\n",
              "      <td>807.14</td>\n",
              "      <td>800.37</td>\n",
              "      <td>804.61</td>\n",
              "      <td>1,362,100</td>\n",
              "    </tr>\n",
              "    <tr>\n",
              "      <th>10</th>\n",
              "      <td>1/18/2017</td>\n",
              "      <td>805.81</td>\n",
              "      <td>806.21</td>\n",
              "      <td>800.99</td>\n",
              "      <td>806.07</td>\n",
              "      <td>1,294,400</td>\n",
              "    </tr>\n",
              "    <tr>\n",
              "      <th>11</th>\n",
              "      <td>1/19/2017</td>\n",
              "      <td>805.12</td>\n",
              "      <td>809.48</td>\n",
              "      <td>801.80</td>\n",
              "      <td>802.17</td>\n",
              "      <td>919,300</td>\n",
              "    </tr>\n",
              "    <tr>\n",
              "      <th>12</th>\n",
              "      <td>1/20/2017</td>\n",
              "      <td>806.91</td>\n",
              "      <td>806.91</td>\n",
              "      <td>801.69</td>\n",
              "      <td>805.02</td>\n",
              "      <td>1,670,000</td>\n",
              "    </tr>\n",
              "    <tr>\n",
              "      <th>13</th>\n",
              "      <td>1/23/2017</td>\n",
              "      <td>807.25</td>\n",
              "      <td>820.87</td>\n",
              "      <td>803.74</td>\n",
              "      <td>819.31</td>\n",
              "      <td>1,963,600</td>\n",
              "    </tr>\n",
              "    <tr>\n",
              "      <th>14</th>\n",
              "      <td>1/24/2017</td>\n",
              "      <td>822.30</td>\n",
              "      <td>825.90</td>\n",
              "      <td>817.82</td>\n",
              "      <td>823.87</td>\n",
              "      <td>1,474,000</td>\n",
              "    </tr>\n",
              "    <tr>\n",
              "      <th>15</th>\n",
              "      <td>1/25/2017</td>\n",
              "      <td>829.62</td>\n",
              "      <td>835.77</td>\n",
              "      <td>825.06</td>\n",
              "      <td>835.67</td>\n",
              "      <td>1,494,500</td>\n",
              "    </tr>\n",
              "    <tr>\n",
              "      <th>16</th>\n",
              "      <td>1/26/2017</td>\n",
              "      <td>837.81</td>\n",
              "      <td>838.00</td>\n",
              "      <td>827.01</td>\n",
              "      <td>832.15</td>\n",
              "      <td>2,973,900</td>\n",
              "    </tr>\n",
              "    <tr>\n",
              "      <th>17</th>\n",
              "      <td>1/27/2017</td>\n",
              "      <td>834.71</td>\n",
              "      <td>841.95</td>\n",
              "      <td>820.44</td>\n",
              "      <td>823.31</td>\n",
              "      <td>2,965,800</td>\n",
              "    </tr>\n",
              "    <tr>\n",
              "      <th>18</th>\n",
              "      <td>1/30/2017</td>\n",
              "      <td>814.66</td>\n",
              "      <td>815.84</td>\n",
              "      <td>799.80</td>\n",
              "      <td>802.32</td>\n",
              "      <td>3,246,600</td>\n",
              "    </tr>\n",
              "    <tr>\n",
              "      <th>19</th>\n",
              "      <td>1/31/2017</td>\n",
              "      <td>796.86</td>\n",
              "      <td>801.25</td>\n",
              "      <td>790.52</td>\n",
              "      <td>796.79</td>\n",
              "      <td>2,160,600</td>\n",
              "    </tr>\n",
              "  </tbody>\n",
              "</table>\n",
              "</div>\n",
              "      <button class=\"colab-df-convert\" onclick=\"convertToInteractive('df-db052222-c247-4d85-b828-92b65a1f5145')\"\n",
              "              title=\"Convert this dataframe to an interactive table.\"\n",
              "              style=\"display:none;\">\n",
              "        \n",
              "  <svg xmlns=\"http://www.w3.org/2000/svg\" height=\"24px\"viewBox=\"0 0 24 24\"\n",
              "       width=\"24px\">\n",
              "    <path d=\"M0 0h24v24H0V0z\" fill=\"none\"/>\n",
              "    <path d=\"M18.56 5.44l.94 2.06.94-2.06 2.06-.94-2.06-.94-.94-2.06-.94 2.06-2.06.94zm-11 1L8.5 8.5l.94-2.06 2.06-.94-2.06-.94L8.5 2.5l-.94 2.06-2.06.94zm10 10l.94 2.06.94-2.06 2.06-.94-2.06-.94-.94-2.06-.94 2.06-2.06.94z\"/><path d=\"M17.41 7.96l-1.37-1.37c-.4-.4-.92-.59-1.43-.59-.52 0-1.04.2-1.43.59L10.3 9.45l-7.72 7.72c-.78.78-.78 2.05 0 2.83L4 21.41c.39.39.9.59 1.41.59.51 0 1.02-.2 1.41-.59l7.78-7.78 2.81-2.81c.8-.78.8-2.07 0-2.86zM5.41 20L4 18.59l7.72-7.72 1.47 1.35L5.41 20z\"/>\n",
              "  </svg>\n",
              "      </button>\n",
              "      \n",
              "  <style>\n",
              "    .colab-df-container {\n",
              "      display:flex;\n",
              "      flex-wrap:wrap;\n",
              "      gap: 12px;\n",
              "    }\n",
              "\n",
              "    .colab-df-convert {\n",
              "      background-color: #E8F0FE;\n",
              "      border: none;\n",
              "      border-radius: 50%;\n",
              "      cursor: pointer;\n",
              "      display: none;\n",
              "      fill: #1967D2;\n",
              "      height: 32px;\n",
              "      padding: 0 0 0 0;\n",
              "      width: 32px;\n",
              "    }\n",
              "\n",
              "    .colab-df-convert:hover {\n",
              "      background-color: #E2EBFA;\n",
              "      box-shadow: 0px 1px 2px rgba(60, 64, 67, 0.3), 0px 1px 3px 1px rgba(60, 64, 67, 0.15);\n",
              "      fill: #174EA6;\n",
              "    }\n",
              "\n",
              "    [theme=dark] .colab-df-convert {\n",
              "      background-color: #3B4455;\n",
              "      fill: #D2E3FC;\n",
              "    }\n",
              "\n",
              "    [theme=dark] .colab-df-convert:hover {\n",
              "      background-color: #434B5C;\n",
              "      box-shadow: 0px 1px 3px 1px rgba(0, 0, 0, 0.15);\n",
              "      filter: drop-shadow(0px 1px 2px rgba(0, 0, 0, 0.3));\n",
              "      fill: #FFFFFF;\n",
              "    }\n",
              "  </style>\n",
              "\n",
              "      <script>\n",
              "        const buttonEl =\n",
              "          document.querySelector('#df-db052222-c247-4d85-b828-92b65a1f5145 button.colab-df-convert');\n",
              "        buttonEl.style.display =\n",
              "          google.colab.kernel.accessAllowed ? 'block' : 'none';\n",
              "\n",
              "        async function convertToInteractive(key) {\n",
              "          const element = document.querySelector('#df-db052222-c247-4d85-b828-92b65a1f5145');\n",
              "          const dataTable =\n",
              "            await google.colab.kernel.invokeFunction('convertToInteractive',\n",
              "                                                     [key], {});\n",
              "          if (!dataTable) return;\n",
              "\n",
              "          const docLinkHtml = 'Like what you see? Visit the ' +\n",
              "            '<a target=\"_blank\" href=https://colab.research.google.com/notebooks/data_table.ipynb>data table notebook</a>'\n",
              "            + ' to learn more about interactive tables.';\n",
              "          element.innerHTML = '';\n",
              "          dataTable['output_type'] = 'display_data';\n",
              "          await google.colab.output.renderOutput(dataTable, element);\n",
              "          const docLink = document.createElement('div');\n",
              "          docLink.innerHTML = docLinkHtml;\n",
              "          element.appendChild(docLink);\n",
              "        }\n",
              "      </script>\n",
              "    </div>\n",
              "  </div>\n",
              "  "
            ]
          },
          "metadata": {},
          "execution_count": 30
        }
      ]
    },
    {
      "cell_type": "code",
      "source": [
        "dataset_test.shape"
      ],
      "metadata": {
        "colab": {
          "base_uri": "https://localhost:8080/"
        },
        "id": "JfStzv6ewa5t",
        "outputId": "a031635d-d8ea-42ab-d569-072c691d7c21"
      },
      "execution_count": 31,
      "outputs": [
        {
          "output_type": "execute_result",
          "data": {
            "text/plain": [
              "(20, 6)"
            ]
          },
          "metadata": {},
          "execution_count": 31
        }
      ]
    },
    {
      "cell_type": "code",
      "source": [
        "real_stock_price=dataset_test.iloc[:,1:2].values\n",
        "real_stock_price"
      ],
      "metadata": {
        "colab": {
          "base_uri": "https://localhost:8080/"
        },
        "id": "3B5JzDACwemP",
        "outputId": "ac4ae38c-55c2-443c-d955-7e3ba2b8aa9b"
      },
      "execution_count": 32,
      "outputs": [
        {
          "output_type": "execute_result",
          "data": {
            "text/plain": [
              "array([[778.81],\n",
              "       [788.36],\n",
              "       [786.08],\n",
              "       [795.26],\n",
              "       [806.4 ],\n",
              "       [807.86],\n",
              "       [805.  ],\n",
              "       [807.14],\n",
              "       [807.48],\n",
              "       [807.08],\n",
              "       [805.81],\n",
              "       [805.12],\n",
              "       [806.91],\n",
              "       [807.25],\n",
              "       [822.3 ],\n",
              "       [829.62],\n",
              "       [837.81],\n",
              "       [834.71],\n",
              "       [814.66],\n",
              "       [796.86]])"
            ]
          },
          "metadata": {},
          "execution_count": 32
        }
      ]
    },
    {
      "cell_type": "markdown",
      "source": [
        "## Predicted stock price of January 2017"
      ],
      "metadata": {
        "id": "eH5M7JCYw15e"
      }
    },
    {
      "cell_type": "markdown",
      "source": [
        "### Concatenate training and test set"
      ],
      "metadata": {
        "id": "f1i5thB-zBOU"
      }
    },
    {
      "cell_type": "code",
      "source": [
        "dataset_total=pd.concat((dataset_train[\"Open\"],dataset_test[\"Open\"]),axis=0)\n",
        "dataset_total.shape"
      ],
      "metadata": {
        "colab": {
          "base_uri": "https://localhost:8080/"
        },
        "id": "zJjycmPEwtBX",
        "outputId": "61c42e76-8568-432a-f638-90282d1b8ee0"
      },
      "execution_count": 34,
      "outputs": [
        {
          "output_type": "execute_result",
          "data": {
            "text/plain": [
              "(1278,)"
            ]
          },
          "metadata": {},
          "execution_count": 34
        }
      ]
    },
    {
      "cell_type": "code",
      "source": [
        "inputs=dataset_total[len(dataset_total)-len(dataset_test)-60:].values"
      ],
      "metadata": {
        "id": "NGH92YWPyzGM"
      },
      "execution_count": 35,
      "outputs": []
    },
    {
      "cell_type": "code",
      "source": [
        "inputs"
      ],
      "metadata": {
        "colab": {
          "base_uri": "https://localhost:8080/"
        },
        "id": "eakx0PEbz2Fv",
        "outputId": "333f4f6c-a6d9-463c-b0cd-e7102a14a782"
      },
      "execution_count": 36,
      "outputs": [
        {
          "output_type": "execute_result",
          "data": {
            "text/plain": [
              "array([779.  , 779.66, 777.71, 786.66, 783.76, 781.22, 781.65, 779.8 ,\n",
              "       787.85, 798.24, 803.3 , 795.  , 804.9 , 816.68, 806.34, 801.  ,\n",
              "       808.35, 795.47, 782.89, 778.2 , 767.25, 750.66, 774.5 , 783.4 ,\n",
              "       779.94, 791.17, 756.54, 755.6 , 746.97, 755.2 , 766.92, 771.37,\n",
              "       762.61, 772.63, 767.73, 764.26, 760.  , 771.53, 770.07, 757.44,\n",
              "       744.59, 757.71, 764.73, 761.  , 772.48, 780.  , 785.04, 793.9 ,\n",
              "       797.4 , 797.34, 800.4 , 790.22, 796.76, 795.84, 792.36, 790.9 ,\n",
              "       790.68, 793.7 , 783.33, 782.75, 778.81, 788.36, 786.08, 795.26,\n",
              "       806.4 , 807.86, 805.  , 807.14, 807.48, 807.08, 805.81, 805.12,\n",
              "       806.91, 807.25, 822.3 , 829.62, 837.81, 834.71, 814.66, 796.86])"
            ]
          },
          "metadata": {},
          "execution_count": 36
        }
      ]
    },
    {
      "cell_type": "markdown",
      "source": [
        "### REshape the inputs"
      ],
      "metadata": {
        "id": "D-eupVKKz9nN"
      }
    },
    {
      "cell_type": "code",
      "source": [
        "inputs=inputs.reshape(-1,1)\n",
        "inputs"
      ],
      "metadata": {
        "colab": {
          "base_uri": "https://localhost:8080/"
        },
        "id": "tKj0c5QVz3mc",
        "outputId": "65006e72-3a39-4929-d8be-a7647df24bcb"
      },
      "execution_count": 39,
      "outputs": [
        {
          "output_type": "execute_result",
          "data": {
            "text/plain": [
              "array([[779.  ],\n",
              "       [779.66],\n",
              "       [777.71],\n",
              "       [786.66],\n",
              "       [783.76],\n",
              "       [781.22],\n",
              "       [781.65],\n",
              "       [779.8 ],\n",
              "       [787.85],\n",
              "       [798.24],\n",
              "       [803.3 ],\n",
              "       [795.  ],\n",
              "       [804.9 ],\n",
              "       [816.68],\n",
              "       [806.34],\n",
              "       [801.  ],\n",
              "       [808.35],\n",
              "       [795.47],\n",
              "       [782.89],\n",
              "       [778.2 ],\n",
              "       [767.25],\n",
              "       [750.66],\n",
              "       [774.5 ],\n",
              "       [783.4 ],\n",
              "       [779.94],\n",
              "       [791.17],\n",
              "       [756.54],\n",
              "       [755.6 ],\n",
              "       [746.97],\n",
              "       [755.2 ],\n",
              "       [766.92],\n",
              "       [771.37],\n",
              "       [762.61],\n",
              "       [772.63],\n",
              "       [767.73],\n",
              "       [764.26],\n",
              "       [760.  ],\n",
              "       [771.53],\n",
              "       [770.07],\n",
              "       [757.44],\n",
              "       [744.59],\n",
              "       [757.71],\n",
              "       [764.73],\n",
              "       [761.  ],\n",
              "       [772.48],\n",
              "       [780.  ],\n",
              "       [785.04],\n",
              "       [793.9 ],\n",
              "       [797.4 ],\n",
              "       [797.34],\n",
              "       [800.4 ],\n",
              "       [790.22],\n",
              "       [796.76],\n",
              "       [795.84],\n",
              "       [792.36],\n",
              "       [790.9 ],\n",
              "       [790.68],\n",
              "       [793.7 ],\n",
              "       [783.33],\n",
              "       [782.75],\n",
              "       [778.81],\n",
              "       [788.36],\n",
              "       [786.08],\n",
              "       [795.26],\n",
              "       [806.4 ],\n",
              "       [807.86],\n",
              "       [805.  ],\n",
              "       [807.14],\n",
              "       [807.48],\n",
              "       [807.08],\n",
              "       [805.81],\n",
              "       [805.12],\n",
              "       [806.91],\n",
              "       [807.25],\n",
              "       [822.3 ],\n",
              "       [829.62],\n",
              "       [837.81],\n",
              "       [834.71],\n",
              "       [814.66],\n",
              "       [796.86]])"
            ]
          },
          "metadata": {},
          "execution_count": 39
        }
      ]
    },
    {
      "cell_type": "markdown",
      "source": [
        "### Scaling the inputs"
      ],
      "metadata": {
        "id": "qMrLul560f9P"
      }
    },
    {
      "cell_type": "code",
      "source": [
        "inputs=sc.transform(inputs)"
      ],
      "metadata": {
        "id": "MxaNLDl-0Qvi"
      },
      "execution_count": 40,
      "outputs": []
    },
    {
      "cell_type": "code",
      "source": [
        "X_test=[]\n",
        "for i in range(60,80):\n",
        "  X_test.append(inputs[i-60:i,0])"
      ],
      "metadata": {
        "id": "z_-UVO2F0pJo"
      },
      "execution_count": 42,
      "outputs": []
    },
    {
      "cell_type": "code",
      "source": [
        "X_test=np.array(X_test)"
      ],
      "metadata": {
        "id": "l5rPawTY1keE"
      },
      "execution_count": 43,
      "outputs": []
    },
    {
      "cell_type": "markdown",
      "source": [
        "### 3d structure"
      ],
      "metadata": {
        "id": "ZpbCJDxP1wCP"
      }
    },
    {
      "cell_type": "code",
      "source": [
        "X_test=np.reshape(X_test,(X_test.shape[0],X_test.shape[1],1))"
      ],
      "metadata": {
        "id": "DJH848691ry_"
      },
      "execution_count": 45,
      "outputs": []
    },
    {
      "cell_type": "code",
      "source": [
        "X_test"
      ],
      "metadata": {
        "colab": {
          "base_uri": "https://localhost:8080/"
        },
        "id": "vSSnogn72H0x",
        "outputId": "1c5015dd-d7f1-4d05-8a6f-d0333b3cb719"
      },
      "execution_count": 46,
      "outputs": [
        {
          "output_type": "execute_result",
          "data": {
            "text/plain": [
              "array([[[0.9299055 ],\n",
              "        [0.93113327],\n",
              "        [0.92750577],\n",
              "        ...,\n",
              "        [0.95725128],\n",
              "        [0.93796041],\n",
              "        [0.93688146]],\n",
              "\n",
              "       [[0.93113327],\n",
              "        [0.92750577],\n",
              "        [0.94415507],\n",
              "        ...,\n",
              "        [0.93796041],\n",
              "        [0.93688146],\n",
              "        [0.92955205]],\n",
              "\n",
              "       [[0.92750577],\n",
              "        [0.94415507],\n",
              "        [0.93876032],\n",
              "        ...,\n",
              "        [0.93688146],\n",
              "        [0.92955205],\n",
              "        [0.94731751]],\n",
              "\n",
              "       ...,\n",
              "\n",
              "       [[0.96054394],\n",
              "        [0.9371419 ],\n",
              "        [0.92841729],\n",
              "        ...,\n",
              "        [1.01045465],\n",
              "        [1.02407173],\n",
              "        [1.03930724]],\n",
              "\n",
              "       [[0.9371419 ],\n",
              "        [0.92841729],\n",
              "        [0.90804747],\n",
              "        ...,\n",
              "        [1.02407173],\n",
              "        [1.03930724],\n",
              "        [1.03354044]],\n",
              "\n",
              "       [[0.92841729],\n",
              "        [0.90804747],\n",
              "        [0.8771858 ],\n",
              "        ...,\n",
              "        [1.03930724],\n",
              "        [1.03354044],\n",
              "        [0.99624228]]])"
            ]
          },
          "metadata": {},
          "execution_count": 46
        }
      ]
    },
    {
      "cell_type": "markdown",
      "source": [
        "### Predicting the stock price"
      ],
      "metadata": {
        "id": "Mauvnc2h2WiX"
      }
    },
    {
      "cell_type": "code",
      "source": [
        "predicted_stock_price=regressor.predict(X_test)"
      ],
      "metadata": {
        "colab": {
          "base_uri": "https://localhost:8080/"
        },
        "id": "QI9HxhpM2Nb_",
        "outputId": "f5049c31-b6b0-485b-b5ea-93cf6b8a9406"
      },
      "execution_count": 47,
      "outputs": [
        {
          "output_type": "stream",
          "name": "stdout",
          "text": [
            "1/1 [==============================] - 2s 2s/step\n"
          ]
        }
      ]
    },
    {
      "cell_type": "markdown",
      "source": [
        "### Inversing the scaling to see the real value of stocks"
      ],
      "metadata": {
        "id": "bfefv6GF23_6"
      }
    },
    {
      "cell_type": "code",
      "source": [
        "predicted_stock_price=sc.inverse_transform(predicted_stock_price)\n",
        "predicted_stock_price"
      ],
      "metadata": {
        "colab": {
          "base_uri": "https://localhost:8080/"
        },
        "id": "R3WP9GxN2zp1",
        "outputId": "e602af65-7628-4c90-e6bf-c8c732eeb2ed"
      },
      "execution_count": 48,
      "outputs": [
        {
          "output_type": "execute_result",
          "data": {
            "text/plain": [
              "array([[784.13293],\n",
              "       [781.0214 ],\n",
              "       [781.91895],\n",
              "       [783.53674],\n",
              "       [787.27264],\n",
              "       [793.7091 ],\n",
              "       [798.8019 ],\n",
              "       [799.98206],\n",
              "       [799.76855],\n",
              "       [799.4925 ],\n",
              "       [799.51416],\n",
              "       [799.5745 ],\n",
              "       [799.70044],\n",
              "       [800.6124 ],\n",
              "       [801.7594 ],\n",
              "       [807.3685 ],\n",
              "       [814.8331 ],\n",
              "       [822.1863 ],\n",
              "       [825.0143 ],\n",
              "       [818.4253 ]], dtype=float32)"
            ]
          },
          "metadata": {},
          "execution_count": 48
        }
      ]
    },
    {
      "cell_type": "markdown",
      "source": [
        "## Visualisation of the results"
      ],
      "metadata": {
        "id": "Tb8H81Bq3tap"
      }
    },
    {
      "cell_type": "code",
      "source": [
        "plt.plot(real_stock_price,color=\"red\",label=\"Real Google Stock Price\")\n",
        "plt.plot(predicted_stock_price,color=\"blue\",label=\"Predicted Google Stock Price\")\n",
        "plt.title(\"Google Stock Price Prediction\")\n",
        "plt.xlabel(\"Time\")\n",
        "plt.ylabel(\"Google STock Price\")\n",
        "plt.legend()\n",
        "plt.show()"
      ],
      "metadata": {
        "colab": {
          "base_uri": "https://localhost:8080/",
          "height": 472
        },
        "id": "4du2Yudg3O60",
        "outputId": "8cfe9f88-2a25-4454-94ba-febd73b72b79"
      },
      "execution_count": 50,
      "outputs": [
        {
          "output_type": "display_data",
          "data": {
            "text/plain": [
              "<Figure size 640x480 with 1 Axes>"
            ],
            "image/png": "[encoded data removed]"
          },
          "metadata": {}
        }
      ]
    },
    {
      "cell_type": "code",
      "source": [],
      "metadata": {
        "id": "3fgDNWhT4y33"
      },
      "execution_count": null,
      "outputs": []
    }
  ]
}